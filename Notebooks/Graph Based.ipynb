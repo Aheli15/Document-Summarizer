{
 "cells": [
  {
   "cell_type": "markdown",
   "metadata": {},
   "source": [
    "# Import Libraries"
   ]
  },
  {
   "cell_type": "code",
   "execution_count": 1,
   "metadata": {
    "_cell_guid": "79c7e3d0-c299-4dcb-8224-4455121ee9b0",
    "_uuid": "d629ff2d2480ee46fbb7e2d37f6b5fab8052498a"
   },
   "outputs": [],
   "source": [
    "import os\n",
    "import nltk\n",
    "import numpy as np\n",
    "from nltk.corpus import stopwords\n",
    "from nltk.tokenize import sent_tokenize\n",
    "from sklearn.metrics.pairwise import cosine_similarity\n",
    "import networkx as nx"
   ]
  },
  {
   "cell_type": "markdown",
   "metadata": {},
   "source": [
    "# Read Documents"
   ]
  },
  {
   "cell_type": "code",
   "execution_count": 2,
   "metadata": {},
   "outputs": [
    {
     "name": "stdout",
     "output_type": "stream",
     "text": [
      "['glove6b300dtxt', 'wikiarticles']\n",
      "['glove.6B.300d.txt']\n",
      "['SData.txt']\n"
     ]
    }
   ],
   "source": [
    "print(os.listdir(\"../input\"))\n",
    "print(os.listdir(\"../input/glove6b300dtxt\"))\n",
    "print(os.listdir(\"../input/wikiarticles\"))"
   ]
  },
  {
   "cell_type": "code",
   "execution_count": 3,
   "metadata": {},
   "outputs": [
    {
     "name": "stdout",
     "output_type": "stream",
     "text": [
      "RMS Titanic was a British passenger liner that sank in the North Atlantic Ocean in 1912 after the ship struck an iceberg during her maiden voyage from Southampton to New York City. Of the estimated 2,224 passengers and crew aboard, more than 1,500 died, making it one of modern history's deadliest peacetime commercial marine disasters. RMS Titanic was the largest ship afloat at the time she entered service and was the second of three Olympic class ocean liners operated by the White Star Line. She was built by the Harland and Wolff shipyard in Belfast. Thomas Andrews, chief naval architect of the shipyard at the time, died in the disaster.Titanic was under the command of Capt. Edward Smith, who also went down with the ship. The ocean liner carried some of the wealthiest people in the world, as well as hundreds of emigrants from Great Britain and Ireland, Scandinavia and elsewhere throughout Europe who were seeking a new life in the United States. The first class accommodation was designed to be the pinnacle of comfort and luxury, with an on board gymnasium, swimming pool, libraries, high-class restaurants and opulent cabins. A high powered radiotelegraph transmitter was available for sending passenger \"marconigrams\" and for the ship's operational use. Although Titanic had advanced safety features such as watertight compartments and remotely activated watertight doors, it only carried enough lifeboats for 1,178 people, about half the number on board, and one third of her total capacity, due to outdated maritime safety regulations. The ship carried 16 lifeboat davits which could lower three lifeboats each, for a total of 48 boats. However, Titanic carried only a total of 20 lifeboats, four of which were collapsible and proved hard to launch during the sinking. After leaving Southampton on 10 April 1912, Titanic called at Cherbourg in France and Queenstown (now Cobh) in Ireland before heading west to New York. On 14 April, four days into the crossing and about 375 miles (600 km) south of Newfoundland, she hit an iceberg at 11:40 p.m. ship's time. The collision caused the hull plates to buckle inwards along her starboard (right) side and opened five of her sixteen watertight compartments to the sea; she could only survive four flooding. Meanwhile, passengers and some crew members were evacuated in lifeboats, many of which were launched only partially loaded. A disproportionate number of men were left aboard because of a \"women and children first\" protocol for loading lifeboats. At 2:20 a.m., she broke apart and foundered with well over one thousand people still aboard. Just under two hours after Titanic sank, the Cunard liner RMS Carpathia arrived and brought aboard an estimated 705 survivors. The disaster was met with worldwide shock and outrage at the huge loss of life and the regulatory and operational failures that led to it. Public inquiries in Britain and the United States led to major improvements in maritime safety. One of their most important legacies was the establishment in 1914 of the International Convention for the Safety of Life at Sea (SOLAS), which still governs maritime safety. Additionally, several new wireless regulations were passed around the world in an effort to learn from the many missteps in wireless communications, which could have saved many more passengers. The wreck of Titanic was discovered in 1985 (more than 70 years after the disaster) during a US military mission, and it remains on the seabed. The ship was split in two and is gradually disintegrating at a depth of 12,415 feet (3,784 m). Thousands of artifacts have been recovered and displayed at museums around the world. Titanic has become one of the most famous ships in history; her memory is kept alive by numerous works of popular culture, including books, folk songs, films, exhibits, and memorials. Titanic is the second largest ocean liner wreck in the world, only beaten by her sister HMHS Britannic, the largest ever sunk, although she holds the record as the largest sunk while actually in service as a liner due to Britannic being used as a hospital ship at the time of her sinking. The final survivor of the sinking, Millvina Dean, aged two months at the time, died in 2009 at the age of 97.\n",
      "\n",
      "A black hole is a region of spacetime exhibiting gravitational acceleration so strong that nothing, no particles or even electromagnetic radiation such as light, can escape from it. The theory of general relativity predicts that a sufficiently compact mass can deform spacetime to form a black hole. The boundary of the region from which no escape is possible is called the event horizon. Although the event horizon has an enormous effect on the fate and circumstances of an object crossing it, no locally detectable features appear to be observed. In many ways, a black hole acts like an ideal black body, as it reflects no light. Moreover, quantum field theory in curved spacetime predicts that event horizons emit Hawking radiation, with the same spectrum as a black body of a temperature inversely proportional to its mass. This temperature is on the order of billionths of a kelvin for black holes of stellar mass, making it essentially impossible to observe. Objects whose gravitational fields are too strong for light to escape were first considered in the 18th century by John Michell and Pierre-Simon Laplace. The first modern solution of general relativity that would characterize a black hole was found by Karl Schwarzschild in 1916, although its interpretation as a region of space from which nothing can escape was first published by David Finkelstein in 1958. Black holes were long considered a mathematical curiosity; it was during the 1960s that theoretical work showed they were a generic prediction of general relativity. The discovery of neutron stars by Jocelyn Bell Burnell in 1967 sparked interest in gravitationally collapsed compact objects as a possible astrophysical reality. Black holes of stellar mass are expected to form when very massive stars collapse at the end of their life cycle. After a black hole has formed, it can continue to grow by absorbing mass from its surroundings. By absorbing other stars and merging with other black holes, supermassive black holes of millions of solar masses may form. There is general consensus that supermassive black holes exist in the centers of most galaxies. Despite its invisible interior, the presence of a black hole can be inferred through its interaction with other matter and with electromagnetic radiation such as visible light. Matter that falls onto a black hole can form an external accretion disk heated by friction, forming some of the brightest objects in the universe. If there are other stars orbiting a black hole, their orbits can be used to determine the black hole's mass and location. Such observations can be used to exclude possible alternatives such as neutron stars. In this way, astronomers have identified numerous stellar black hole candidates in binary systems, and established that the radio source known as Sagittarius A*, at the core of the Milky Way galaxy, contains a supermassive black hole of about 4.3 million solar masses. On 11 February 2016, the LIGO collaboration announced the first direct detection of gravitational waves, which also represented the first observation of a black hole merger. As of December 2018, eleven gravitational wave events have been observed that originated from ten merging black holes (along with one binary neutron star merger). On 10 April 2019, the first ever direct image of a black hole and its vicinity was published, following observations made by the Event Horizon Telescope in 2017 of the supermassive black hole in Messier 87's galactic centre.\n",
      "\n",
      "CRISPR(clustered regularly interspaced short palindromic repeats) is a family of DNA sequences found within the genomes of prokaryotic organisms such as bacteria and archaea. These sequences are derived from DNA fragments from viruses that have previously infected the prokaryote and are used to detect and destroy DNA from similar viruses during subsequent infections. Hence these sequences play a key role in the antiviral defense system of prokaryotes. Cas9 (or \"CRISPR associated protein 9\") is an enzyme that uses CRISPR sequences as a guide to recognize and cleave specific strands of DNA that are complementary to the CRISPR sequence. Cas9 enzymes together with CRISPR sequences form the basis of a technology known as CRISPR-Cas9 that can be used to edit genes within organisms. This editing process has a wide variety of applications including basic biological research, development of biotechnology products, and treatment of diseases. The CRISPR-Cas system is a prokaryotic immune system that confers resistance to foreign genetic elements such as those present within plasmids and phages that provides a form of acquired immunity. RNA harboring the spacer sequence helps Cas (CRISPR associated) proteins recognize and cut foreign pathogenic DNA. Other RNA guided Cas proteins cut foreign RNA. CRISPR are found in approximately 50% of sequenced bacterial genomes and nearly 90% of sequenced archaea.\n",
      "\n",
      "The id, ego, and super-ego are three distinct, yet interacting agents in the psychic apparatus defined in Sigmund Freud's structural model of the psyche. The three parts are the theoretical constructs of how the activity and interaction in our mental life is described. According to this Freudian model of the psyche, the id is the set of uncoordinated instinctual trends; the super-ego plays the critical and moralizing role; and the ego is the organized, realistic part that mediates between the desires of the id and the super-ego. The id is the disorganized part of the personality structure that contains a human's basic, instinctual drives. Id is the only component of personality that is present from birth. It is the source of our bodily needs, wants, desires, and impulses, particularly our sexual and aggressive drives. The id contains the libido, which is the primary source of instinctual force that is unresponsive to the demands of reality. The id acts according to the \"pleasure principle\"  the psychic force that motivates the tendency to seek immediate gratification of any impulse  defined as seeking to avoid pain or unpleasure (not \"displeasure\") aroused by increases in instinctual tension. The mind of a newborn child is regarded as completely \"id-ridden\", in the sense that it is a mass of instinctive drives and impulses, and needs immediate satisfaction. The \"id\" moves on to what organism needs. Example is reduction of tension which is experienced. The id \"knows no judgements of value: no good and evil, no morality. The ego acts according to the reality principle; i.e., it seeks to please the id's drive in realistic ways that will benefit in the long term rather than bring grief. At the same time, Freud concedes that as the ego \"attempts to mediate between id and reality, it is often obliged to cloak the [unconscious] commands of the id with its own preconscious rationalizations, to conceal the id's conflicts with reality, to profess... to be taking notice of reality even when the id has remained rigid and unyielding.\" The reality principle that operates the ego is a regulating mechanism that enables the individual to delay gratifying immediate needs and function effectively in the real world. An example would be to resist the urge to grab other people's belongings, but instead to purchase those items. The ego is the organized part of the personality structure that includes defensive, perceptual, intellectual-cognitive, and executive functions. Conscious awareness resides in the ego, although not all of the operations of the ego are conscious. Originally, Freud used the word ego to mean a sense of self, but later revised it to mean a set of psychic functions such as judgment, tolerance, reality testing, control, planning, defense, synthesis of information, intellectual functioning, and memory. The ego separates out what is real. It helps us to organize our thoughts and make sense of them and the world around us. The ego is that part of the id which has been modified by the direct influence of the external world.The ego represents what may be called reason and common sense, in contrast to the id, which contains the passions in its relation to the id it is like a person on horseback, who has to hold in check the superior strength of the horse; with this difference, that the rider tries to do so with their own strength, while the ego uses borrowed forces. Still worse, \"it serves three severe masters... the external world, the super-ego and the id.\" Its task is to find a balance between primitive drives and reality while satisfying the id and super-ego. Its main concern is with the individual's safety and allows some of the id's desires to be expressed, but only when consequences of these actions are marginal. \"Thus the ego, driven by the id, confined by the super-ego, repulsed by reality, struggles...[in] bringing about harmony among the forces and influences working in and upon it,\" and readily \"breaks out in anxietyrealistic anxiety regarding the external world, moral anxiety regarding the super-ego, and neurotic anxiety regarding the strength of the passions in the id.\" It has to do its best to suit all three, thus is constantly feeling hemmed by the danger of causing discontent on two other sides. It is said, however, that the ego seems to be more loyal to the id, preferring to gloss over the finer details of reality to minimize conflicts while pretending to have a regard for reality. But the super-ego is constantly watching every one of the ego's moves and punishes it with feelings of guilt, anxiety, and inferiority. The super-ego reflects the internalization of cultural rules, mainly taught by parents applying their guidance and influence. Freud developed his concept of the super-ego from an earlier combination of the ego ideal and the \"special psychical agency which performs the task of seeing that narcissistic satisfaction from the ego ideal is ensured...what we call our 'conscience'.\"For him \"the instillation of the super-ego can be described as a successful instance of identification with the parental agency,\" while as development proceeds \"the super-ego also takes on the influence of those who have stepped into the place of parents  educators, teachers, people chosen as ideal models\".\n",
      "\n",
      "Artificial general intelligence (AGI) is the intelligence of a machine that could successfully perform any intellectual task that a human being can. It is a primary goal of some artificial intelligence research and a common topic in science fiction and future studies. Some researchers refer to Artificial general intelligence as \"strong AI\", \"full AI\" or as the ability of a machine to perform \"general intelligent action\"; others reserve \"strong AI\" for machines capable of experiencing consciousness. Some references emphasize a distinction between strong AI and \"applied AI\" (also called \"narrow AI\" or \"weak AI\"): the use of software to study or accomplish specific problem solving or reasoning tasks. Weak AI, in contrast to strong AI, does not attempt to perform the full range of human cognitive abilities. As of 2017, over forty organizations worldwide are doing active research on AGI. The most difficult problems for computers are informally known as \"AI-complete\" or \"AI-hard\", implying that solving them is equivalent to the general aptitude of human intelligence, or strong AI, beyond the capabilities of a purpose-specific algorithm. AI-complete problems are hypothesised to include general computer vision, natural language understanding, and dealing with unexpected circumstances while solving any real world problem. AI-complete problems cannot be solved with current computer technology alone, and also require human computation. This property could be useful, for example, to test for the presence of humans, as CAPTCHAs aim to do; and for computer security to repel brute-force attacks.\n"
     ]
    }
   ],
   "source": [
    "documents = []\n",
    "f = open('../input/wikiarticles/SData.txt', encoding=\"utf-8\", errors='ignore')\n",
    "for line in f:\n",
    "    if line!='\\n':\n",
    "        print(line)\n",
    "        article = sent_tokenize(line)\n",
    "        documents.append(article)\n",
    "f.close()"
   ]
  },
  {
   "cell_type": "code",
   "execution_count": 4,
   "metadata": {},
   "outputs": [
    {
     "name": "stdout",
     "output_type": "stream",
     "text": [
      "[['RMS Titanic was a British passenger liner that sank in the North Atlantic Ocean in 1912 after the ship struck an iceberg during her maiden voyage from Southampton to New York City.', \"Of the estimated 2,224 passengers and crew aboard, more than 1,500 died, making it one of modern history's deadliest peacetime commercial marine disasters.\", 'RMS Titanic was the largest ship afloat at the time she entered service and was the second of three Olympic class ocean liners operated by the White Star Line.', 'She was built by the Harland and Wolff shipyard in Belfast.', 'Thomas Andrews, chief naval architect of the shipyard at the time, died in the disaster.Titanic was under the command of Capt.', 'Edward Smith, who also went down with the ship.', 'The ocean liner carried some of the wealthiest people in the world, as well as hundreds of emigrants from Great Britain and Ireland, Scandinavia and elsewhere throughout Europe who were seeking a new life in the United States.', 'The first class accommodation was designed to be the pinnacle of comfort and luxury, with an on board gymnasium, swimming pool, libraries, high-class restaurants and opulent cabins.', 'A high powered radiotelegraph transmitter was available for sending passenger \"marconigrams\" and for the ship\\'s operational use.', 'Although Titanic had advanced safety features such as watertight compartments and remotely activated watertight doors, it only carried enough lifeboats for 1,178 people, about half the number on board, and one third of her total capacity, due to outdated maritime safety regulations.', 'The ship carried 16 lifeboat davits which could lower three lifeboats each, for a total of 48 boats.', 'However, Titanic carried only a total of 20 lifeboats, four of which were collapsible and proved hard to launch during the sinking.', 'After leaving Southampton on 10 April 1912, Titanic called at Cherbourg in France and Queenstown (now Cobh) in Ireland before heading west to New York.', \"On 14 April, four days into the crossing and about 375 miles (600 km) south of Newfoundland, she hit an iceberg at 11:40 p.m. ship's time.\", 'The collision caused the hull plates to buckle inwards along her starboard (right) side and opened five of her sixteen watertight compartments to the sea; she could only survive four flooding.', 'Meanwhile, passengers and some crew members were evacuated in lifeboats, many of which were launched only partially loaded.', 'A disproportionate number of men were left aboard because of a \"women and children first\" protocol for loading lifeboats.', 'At 2:20 a.m., she broke apart and foundered with well over one thousand people still aboard.', 'Just under two hours after Titanic sank, the Cunard liner RMS Carpathia arrived and brought aboard an estimated 705 survivors.', 'The disaster was met with worldwide shock and outrage at the huge loss of life and the regulatory and operational failures that led to it.', 'Public inquiries in Britain and the United States led to major improvements in maritime safety.', 'One of their most important legacies was the establishment in 1914 of the International Convention for the Safety of Life at Sea (SOLAS), which still governs maritime safety.', 'Additionally, several new wireless regulations were passed around the world in an effort to learn from the many missteps in wireless communications, which could have saved many more passengers.', 'The wreck of Titanic was discovered in 1985 (more than 70 years after the disaster) during a US military mission, and it remains on the seabed.', 'The ship was split in two and is gradually disintegrating at a depth of 12,415 feet (3,784 m).', 'Thousands of artifacts have been recovered and displayed at museums around the world.', 'Titanic has become one of the most famous ships in history; her memory is kept alive by numerous works of popular culture, including books, folk songs, films, exhibits, and memorials.', 'Titanic is the second largest ocean liner wreck in the world, only beaten by her sister HMHS Britannic, the largest ever sunk, although she holds the record as the largest sunk while actually in service as a liner due to Britannic being used as a hospital ship at the time of her sinking.', 'The final survivor of the sinking, Millvina Dean, aged two months at the time, died in 2009 at the age of 97.']]\n"
     ]
    }
   ],
   "source": [
    "print(documents[0:1])"
   ]
  },
  {
   "cell_type": "markdown",
   "metadata": {},
   "source": [
    "# Preprocessing"
   ]
  },
  {
   "cell_type": "code",
   "execution_count": 5,
   "metadata": {},
   "outputs": [
    {
     "name": "stdout",
     "output_type": "stream",
     "text": [
      "[['rms titanic was a british passenger liner that sank in the north atlantic ocean in 1912 after the ship struck an iceberg during her maiden voyage from southampton to new york city ', 'of the estimated 2 224 passengers and crew aboard  more than 1 500 died  making it one of modern history s deadliest peacetime commercial marine disasters ', 'rms titanic was the largest ship afloat at the time she entered service and was the second of three olympic class ocean liners operated by the white star line ', 'she was built by the harland and wolff shipyard in belfast ', 'thomas andrews  chief naval architect of the shipyard at the time  died in the disaster titanic was under the command of capt ', 'edward smith  who also went down with the ship ', 'the ocean liner carried some of the wealthiest people in the world  as well as hundreds of emigrants from great britain and ireland  scandinavia and elsewhere throughout europe who were seeking a new life in the united states ', 'the first class accommodation was designed to be the pinnacle of comfort and luxury  with an on board gymnasium  swimming pool  libraries  high class restaurants and opulent cabins ', 'a high powered radiotelegraph transmitter was available for sending passenger  marconigrams  and for the ship s operational use ', 'although titanic had advanced safety features such as watertight compartments and remotely activated watertight doors  it only carried enough lifeboats for 1 178 people  about half the number on board  and one third of her total capacity  due to outdated maritime safety regulations ', 'the ship carried 16 lifeboat davits which could lower three lifeboats each  for a total of 48 boats ', 'however  titanic carried only a total of 20 lifeboats  four of which were collapsible and proved hard to launch during the sinking ', 'after leaving southampton on 10 april 1912  titanic called at cherbourg in france and queenstown  now cobh  in ireland before heading west to new york ', 'on 14 april  four days into the crossing and about 375 miles  600 km  south of newfoundland  she hit an iceberg at 11 40 p m  ship s time ', 'the collision caused the hull plates to buckle inwards along her starboard  right  side and opened five of her sixteen watertight compartments to the sea  she could only survive four flooding ', 'meanwhile  passengers and some crew members were evacuated in lifeboats  many of which were launched only partially loaded ', 'a disproportionate number of men were left aboard because of a  women and children first  protocol for loading lifeboats ', 'at 2 20 a m   she broke apart and foundered with well over one thousand people still aboard ', 'just under two hours after titanic sank  the cunard liner rms carpathia arrived and brought aboard an estimated 705 survivors ', 'the disaster was met with worldwide shock and outrage at the huge loss of life and the regulatory and operational failures that led to it ', 'public inquiries in britain and the united states led to major improvements in maritime safety ', 'one of their most important legacies was the establishment in 1914 of the international convention for the safety of life at sea  solas   which still governs maritime safety ', 'additionally  several new wireless regulations were passed around the world in an effort to learn from the many missteps in wireless communications  which could have saved many more passengers ', 'the wreck of titanic was discovered in 1985  more than 70 years after the disaster  during a us military mission  and it remains on the seabed ', 'the ship was split in two and is gradually disintegrating at a depth of 12 415 feet  3 784 m  ', 'thousands of artifacts have been recovered and displayed at museums around the world ', 'titanic has become one of the most famous ships in history  her memory is kept alive by numerous works of popular culture  including books  folk songs  films  exhibits  and memorials ', 'titanic is the second largest ocean liner wreck in the world  only beaten by her sister hmhs britannic  the largest ever sunk  although she holds the record as the largest sunk while actually in service as a liner due to britannic being used as a hospital ship at the time of her sinking ', 'the final survivor of the sinking  millvina dean  aged two months at the time  died in 2009 at the age of 97 '], ['a black hole is a region of spacetime exhibiting gravitational acceleration so strong that nothing  no particles or even electromagnetic radiation such as light  can escape from it ', 'the theory of general relativity predicts that a sufficiently compact mass can deform spacetime to form a black hole ', 'the boundary of the region from which no escape is possible is called the event horizon ', 'although the event horizon has an enormous effect on the fate and circumstances of an object crossing it  no locally detectable features appear to be observed ', 'in many ways  a black hole acts like an ideal black body  as it reflects no light ', 'moreover  quantum field theory in curved spacetime predicts that event horizons emit hawking radiation  with the same spectrum as a black body of a temperature inversely proportional to its mass ', 'this temperature is on the order of billionths of a kelvin for black holes of stellar mass  making it essentially impossible to observe ', 'objects whose gravitational fields are too strong for light to escape were first considered in the 18th century by john michell and pierre simon laplace ', 'the first modern solution of general relativity that would characterize a black hole was found by karl schwarzschild in 1916  although its interpretation as a region of space from which nothing can escape was first published by david finkelstein in 1958 ', 'black holes were long considered a mathematical curiosity  it was during the 1960s that theoretical work showed they were a generic prediction of general relativity ', 'the discovery of neutron stars by jocelyn bell burnell in 1967 sparked interest in gravitationally collapsed compact objects as a possible astrophysical reality ', 'black holes of stellar mass are expected to form when very massive stars collapse at the end of their life cycle ', 'after a black hole has formed  it can continue to grow by absorbing mass from its surroundings ', 'by absorbing other stars and merging with other black holes  supermassive black holes of millions of solar masses may form ', 'there is general consensus that supermassive black holes exist in the centers of most galaxies ', 'despite its invisible interior  the presence of a black hole can be inferred through its interaction with other matter and with electromagnetic radiation such as visible light ', 'matter that falls onto a black hole can form an external accretion disk heated by friction  forming some of the brightest objects in the universe ', 'if there are other stars orbiting a black hole  their orbits can be used to determine the black hole s mass and location ', 'such observations can be used to exclude possible alternatives such as neutron stars ', 'in this way  astronomers have identified numerous stellar black hole candidates in binary systems  and established that the radio source known as sagittarius a   at the core of the milky way galaxy  contains a supermassive black hole of about 4 3 million solar masses ', 'on 11 february 2016  the ligo collaboration announced the first direct detection of gravitational waves  which also represented the first observation of a black hole merger ', 'as of december 2018  eleven gravitational wave events have been observed that originated from ten merging black holes  along with one binary neutron star merger  ', 'on 10 april 2019  the first ever direct image of a black hole and its vicinity was published  following observations made by the event horizon telescope in 2017 of the supermassive black hole in messier 87 s galactic centre '], ['crispr clustered regularly interspaced short palindromic repeats  is a family of dna sequences found within the genomes of prokaryotic organisms such as bacteria and archaea ', 'these sequences are derived from dna fragments from viruses that have previously infected the prokaryote and are used to detect and destroy dna from similar viruses during subsequent infections ', 'hence these sequences play a key role in the antiviral defense system of prokaryotes ', 'cas9  or  crispr associated protein 9   is an enzyme that uses crispr sequences as a guide to recognize and cleave specific strands of dna that are complementary to the crispr sequence ', 'cas9 enzymes together with crispr sequences form the basis of a technology known as crispr cas9 that can be used to edit genes within organisms ', 'this editing process has a wide variety of applications including basic biological research  development of biotechnology products  and treatment of diseases ', 'the crispr cas system is a prokaryotic immune system that confers resistance to foreign genetic elements such as those present within plasmids and phages that provides a form of acquired immunity ', 'rna harboring the spacer sequence helps cas  crispr associated  proteins recognize and cut foreign pathogenic dna ', 'other rna guided cas proteins cut foreign rna ', 'crispr are found in approximately 50% of sequenced bacterial genomes and nearly 90% of sequenced archaea '], ['the id  ego  and super ego are three distinct  yet interacting agents in the psychic apparatus defined in sigmund freud s structural model of the psyche ', 'the three parts are the theoretical constructs of how the activity and interaction in our mental life is described ', 'according to this freudian model of the psyche  the id is the set of uncoordinated instinctual trends  the super ego plays the critical and moralizing role  and the ego is the organized  realistic part that mediates between the desires of the id and the super ego ', 'the id is the disorganized part of the personality structure that contains a human s basic  instinctual drives ', 'id is the only component of personality that is present from birth ', 'it is the source of our bodily needs  wants  desires  and impulses  particularly our sexual and aggressive drives ', 'the id contains the libido  which is the primary source of instinctual force that is unresponsive to the demands of reality ', 'the id acts according to the  pleasure principle   the psychic force that motivates the tendency to seek immediate gratification of any impulse  defined as seeking to avoid pain or unpleasure  not  displeasure   aroused by increases in instinctual tension ', 'the mind of a newborn child is regarded as completely  id ridden   in the sense that it is a mass of instinctive drives and impulses  and needs immediate satisfaction ', 'the  id  moves on to what organism needs ', 'example is reduction of tension which is experienced ', 'the id  knows no judgements of value  no good and evil  no morality ', 'the ego acts according to the reality principle  i e   it seeks to please the id s drive in realistic ways that will benefit in the long term rather than bring grief ', 'at the same time  freud concedes that as the ego  attempts to mediate between id and reality  it is often obliged to cloak the  unconscious  commands of the id with its own preconscious rationalizations  to conceal the id s conflicts with reality  to profess    to be taking notice of reality even when the id has remained rigid and unyielding  ', 'the reality principle that operates the ego is a regulating mechanism that enables the individual to delay gratifying immediate needs and function effectively in the real world ', 'an example would be to resist the urge to grab other people s belongings  but instead to purchase those items ', 'the ego is the organized part of the personality structure that includes defensive  perceptual  intellectual cognitive  and executive functions ', 'conscious awareness resides in the ego  although not all of the operations of the ego are conscious ', 'originally  freud used the word ego to mean a sense of self  but later revised it to mean a set of psychic functions such as judgment  tolerance  reality testing  control  planning  defense  synthesis of information  intellectual functioning  and memory ', 'the ego separates out what is real ', 'it helps us to organize our thoughts and make sense of them and the world around us ', 'the ego is that part of the id which has been modified by the direct influence of the external world the ego represents what may be called reason and common sense  in contrast to the id  which contains the passions in its relation to the id it is like a person on horseback  who has to hold in check the superior strength of the horse  with this difference  that the rider tries to do so with their own strength  while the ego uses borrowed forces ', 'still worse   it serves three severe masters    the external world  the super ego and the id  ', 'its task is to find a balance between primitive drives and reality while satisfying the id and super ego ', 'its main concern is with the individual s safety and allows some of the id s desires to be expressed  but only when consequences of these actions are marginal ', ' thus the ego  driven by the id  confined by the super ego  repulsed by reality  struggles    in  bringing about harmony among the forces and influences working in and upon it   and readily  breaks out in anxietyrealistic anxiety regarding the external world  moral anxiety regarding the super ego  and neurotic anxiety regarding the strength of the passions in the id  ', 'it has to do its best to suit all three  thus is constantly feeling hemmed by the danger of causing discontent on two other sides ', 'it is said  however  that the ego seems to be more loyal to the id  preferring to gloss over the finer details of reality to minimize conflicts while pretending to have a regard for reality ', 'but the super ego is constantly watching every one of the ego s moves and punishes it with feelings of guilt  anxiety  and inferiority ', 'the super ego reflects the internalization of cultural rules  mainly taught by parents applying their guidance and influence ', 'freud developed his concept of the super ego from an earlier combination of the ego ideal and the  special psychical agency which performs the task of seeing that narcissistic satisfaction from the ego ideal is ensured   what we call our  conscience  ', ' for him  the instillation of the super ego can be described as a successful instance of identification with the parental agency   while as development proceeds  the super ego also takes on the influence of those who have stepped into the place of parents  educators  teachers  people chosen as ideal models  '], ['artificial general intelligence  agi  is the intelligence of a machine that could successfully perform any intellectual task that a human being can ', 'it is a primary goal of some artificial intelligence research and a common topic in science fiction and future studies ', 'some researchers refer to artificial general intelligence as  strong ai    full ai  or as the ability of a machine to perform  general intelligent action   others reserve  strong ai  for machines capable of experiencing consciousness ', 'some references emphasize a distinction between strong ai and  applied ai   also called  narrow ai  or  weak ai    the use of software to study or accomplish specific problem solving or reasoning tasks ', 'weak ai  in contrast to strong ai  does not attempt to perform the full range of human cognitive abilities ', 'as of 2017  over forty organizations worldwide are doing active research on agi ', 'the most difficult problems for computers are informally known as  ai complete  or  ai hard   implying that solving them is equivalent to the general aptitude of human intelligence  or strong ai  beyond the capabilities of a purpose specific algorithm ', 'ai complete problems are hypothesised to include general computer vision  natural language understanding  and dealing with unexpected circumstances while solving any real world problem ', 'ai complete problems cannot be solved with current computer technology alone  and also require human computation ', 'this property could be useful  for example  to test for the presence of humans  as captchas aim to do  and for computer security to repel brute force attacks ']]\n"
     ]
    }
   ],
   "source": [
    "#Remove Punctuations\n",
    "clean_docs = []\n",
    "punctuations = \"\\\\`*_,{}[]()>#+-.\\\"\\'!;:$\"\n",
    "for d in documents:\n",
    "    clean_sents = []\n",
    "    for s in d:\n",
    "        for p in punctuations:\n",
    "            s = s.replace(p,' ')\n",
    "        clean_sents.append(s.lower())\n",
    "    clean_docs.append(clean_sents)\n",
    "print(clean_docs)"
   ]
  },
  {
   "cell_type": "code",
   "execution_count": 6,
   "metadata": {},
   "outputs": [],
   "source": [
    "#Remove stopwords\n",
    "clean_docs2 = []\n",
    "stopw = stopwords.words('english')\n",
    "for d in clean_docs:\n",
    "    clean_sents2 = []\n",
    "    for s in d:\n",
    "        words = s.split()\n",
    "        sen_new = \" \".join([w for w in words if w not in stopw])\n",
    "        clean_sents2.append(sen_new)\n",
    "    clean_docs2.append(clean_sents2)"
   ]
  },
  {
   "cell_type": "markdown",
   "metadata": {},
   "source": [
    "# Fetch Word Embeddings"
   ]
  },
  {
   "cell_type": "code",
   "execution_count": 7,
   "metadata": {},
   "outputs": [],
   "source": [
    "word2vec = {}\n",
    "embeddings = open('../input/glove6b300dtxt/glove.6B.300d.txt', encoding='utf-8')\n",
    "for line in embeddings:\n",
    "    components = line.split()\n",
    "    word = components[0]\n",
    "    vector = np.asarray(components[1:], dtype='float32')\n",
    "    word2vec[word] = vector\n",
    "embeddings.close()"
   ]
  },
  {
   "cell_type": "markdown",
   "metadata": {},
   "source": [
    "# Create Sentence Embeddings"
   ]
  },
  {
   "cell_type": "code",
   "execution_count": 8,
   "metadata": {},
   "outputs": [],
   "source": [
    "sentence_vectors = []\n",
    "for d in clean_docs2:\n",
    "    vectors = []\n",
    "    for s in d:\n",
    "      if len(s) != 0:\n",
    "        words = s.split()\n",
    "        v = sum([word2vec.get(w, np.zeros((300,))) for w in words])/(len(words)+0.001)\n",
    "      else:\n",
    "        v = np.zeros((300,))\n",
    "      vectors.append(v)\n",
    "    sentence_vectors.append(vectors)"
   ]
  },
  {
   "cell_type": "code",
   "execution_count": 9,
   "metadata": {},
   "outputs": [],
   "source": [
    "l = []\n",
    "for d in clean_docs2:\n",
    "    l.append(len(d))\n",
    "    "
   ]
  },
  {
   "cell_type": "markdown",
   "metadata": {},
   "source": [
    "# Similarity and Ranking"
   ]
  },
  {
   "cell_type": "code",
   "execution_count": 10,
   "metadata": {},
   "outputs": [],
   "source": [
    "similarity_matrices = []\n",
    "for i, d in enumerate(clean_docs2):\n",
    "    sim_mat = np.zeros((l[i],l[i]), dtype='float32')\n",
    "    #similarity_matrices.append(sim_mat)\n",
    "    for x in range(l[i]):\n",
    "      for y in range(l[i]):\n",
    "        if x != y:\n",
    "          sim_mat[x][y] = cosine_similarity(sentence_vectors[i][x].reshape(1,300), sentence_vectors[i][y].reshape(1,300))[0,0]\n",
    "    similarity_matrices.append(sim_mat)"
   ]
  },
  {
   "cell_type": "code",
   "execution_count": 11,
   "metadata": {},
   "outputs": [],
   "source": [
    "doc_scores = []\n",
    "doc_ranked = []\n",
    "for x in range(len(l)):\n",
    "    nx_graph = nx.from_numpy_array(similarity_matrices[x])\n",
    "    scores = nx.pagerank(nx_graph)\n",
    "    ranked_sentences = sorted(((scores[i],s) for i,s in enumerate(documents[x])), reverse=True)\n",
    "    doc_scores.append(scores)\n",
    "    doc_ranked.append(ranked_sentences)"
   ]
  },
  {
   "cell_type": "code",
   "execution_count": 12,
   "metadata": {},
   "outputs": [],
   "source": [
    "# Generate summary\n",
    "summaries = []\n",
    "for x in range(len(l)):\n",
    "    summary = []\n",
    "    sn = int(0.25*l[x]) #No. of sentences to form the summary = 1/4th of total no. of sentences in the doc\n",
    "    for i in range(sn):\n",
    "      summary.append(doc_ranked[x][i][1])\n",
    "    summaries.append(summary)"
   ]
  },
  {
   "cell_type": "code",
   "execution_count": 13,
   "metadata": {},
   "outputs": [],
   "source": [
    "op = open(\"Summarized.txt\", \"a+\")\n",
    "for i,sum in enumerate(summaries):\n",
    "    op.writelines(sum)\n",
    "    op.write(\"\\n\")\n",
    "    op.write(\"\\n\")\n",
    "op.close()"
   ]
  },
  {
   "cell_type": "code",
   "execution_count": 14,
   "metadata": {},
   "outputs": [],
   "source": []
  }
 ],
 "metadata": {
  "kernelspec": {
   "display_name": "Python 3",
   "language": "python",
   "name": "python3"
  },
  "language_info": {
   "codemirror_mode": {
    "name": "ipython",
    "version": 3
   },
   "file_extension": ".py",
   "mimetype": "text/x-python",
   "name": "python",
   "nbconvert_exporter": "python",
   "pygments_lexer": "ipython3",
   "version": "3.6.4"
  }
 },
 "nbformat": 4,
 "nbformat_minor": 1
}
